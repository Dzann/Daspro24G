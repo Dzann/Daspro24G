{
 "cells": [
  {
   "cell_type": "code",
   "execution_count": 8,
   "id": "eed43c21-6ab8-40e8-a9ba-78fdcf5f59db",
   "metadata": {
    "jupyter": {
     "source_hidden": true
    }
   },
   "outputs": [
    {
     "name": "stdin",
     "output_type": "stream",
     "text": [
      "angka 1:  2\n",
      "angka 2:  3\n"
     ]
    },
    {
     "name": "stdout",
     "output_type": "stream",
     "text": [
      "2 + 3 = 5\n",
      "2 * 3 = 6\n",
      "2 ^ 3 = 8\n"
     ]
    }
   ],
   "source": [
    "import Aritmatika.math as math\n",
    "num1 = int(input(\"angka 1: \"))\n",
    "num2 = int(input(\"angka 2: \"))\n",
    "\n",
    "r1 = math.add(num1, num2)\n",
    "r2 = math.multi(num1, num2)\n",
    "r3 = math.pow(num1, num2)\n",
    "print(f\"{num1} + {num2} = {r1}\")\n",
    "print(f\"{num1} * {num2} = {r2}\")\n",
    "print(f\"{num1} ^ {num2} = {r3}\")"
   ]
  },
  {
   "cell_type": "code",
   "execution_count": 8,
   "id": "7070f7f7-7ca3-4ce9-b46e-f9a34471e971",
   "metadata": {
    "collapsed": true,
    "jupyter": {
     "outputs_hidden": true,
     "source_hidden": true
    },
    "scrolled": true
   },
   "outputs": [
    {
     "name": "stdin",
     "output_type": "stream",
     "text": [
      "Masukan Panjang CM:  100\n"
     ]
    },
    {
     "name": "stdout",
     "output_type": "stream",
     "text": [
      "100Cm = 10000M\n"
     ]
    }
   ],
   "source": [
    "from Konversi.convert import cmToMeter as ctm\n",
    "\n",
    "num1 = int(input(\"Masukan Panjang CM: \"))\n",
    "hasil = ctm(num1)\n",
    "print(f\"{num1}Cm = {hasil}M\")"
   ]
  },
  {
   "cell_type": "code",
   "execution_count": 3,
   "id": "493fa15c-ad6f-411f-82cf-cf09317aadc0",
   "metadata": {},
   "outputs": [],
   "source": [
    "def menuAritmatika():\n",
    "    from Aritmatika.math import add, multi, pow\n",
    "    while True:\n",
    "        print(\"\"\"\n",
    "        ===Menu Aritmatika===\n",
    "        1. Tambah\n",
    "        2. Kali\n",
    "        3. Pangkat\n",
    "        4. Back\n",
    "        \"\"\")\n",
    "        try:\n",
    "            pMath = int(input(\"Pilih Fungsi: \"))\n",
    "            if pMath == 1:\n",
    "                num1 = int(input(\"angka 1: \"))\n",
    "                num2 = int(input(\"angka 2: \"))\n",
    "                result = add(num1, num2)\n",
    "                print(f\"Hasil: {result}\")\n",
    "            elif pMath == 2:\n",
    "                num1 = int(input(\"angka 1: \"))\n",
    "                num2 = int(input(\"angka 2: \"))\n",
    "                result = multi(num1, num2)\n",
    "                print(f\"Hasil: {result}\")\n",
    "            elif pMath == 3:\n",
    "                num1 = int(input(\"angka 1: \"))\n",
    "                num2 = int(input(\"Pangkat: \"))\n",
    "                result = pow(num1, num2)\n",
    "                print(f\"Hasil: {result}\")\n",
    "            elif pMath == 4:\n",
    "                break\n",
    "            else:\n",
    "                print(\"Pilihan tidak valid!\")\n",
    "        except ValueError:\n",
    "            print(\"Masukkan angka yang valid!\")\n",
    "\n",
    "def menuKonversi():\n",
    "    from Konversi.convert import cmToMeter, meterToCm\n",
    "    while True:\n",
    "        print(\"\"\"\n",
    "        ===Menu Konversi===\n",
    "        1. Cm To Meter\n",
    "        2. Meter To CM\n",
    "        3. Back\n",
    "        \"\"\")\n",
    "        try:\n",
    "            kMath = int(input(\"Pilih Fungsi: \"))\n",
    "            if kMath == 1:\n",
    "                panjang = int(input(\"Masukan Panjang (cm): \"))\n",
    "                hasil = cmToMeter(panjang)\n",
    "                print(f\"Hasil: {hasil} meter\")\n",
    "            elif kMath == 2:\n",
    "                panjang = int(input(\"Masukan Panjang (meter): \"))\n",
    "                hasil = meterToCm(panjang)\n",
    "                print(f\"Hasil: {hasil} cm\")\n",
    "            elif kMath == 3:\n",
    "                break\n",
    "            else:\n",
    "                print(\"Pilihan tidak valid!\")\n",
    "        except ValueError:\n",
    "            print(\"Masukan angka yang valid\")\n",
    "\n",
    "def menuUbahBilangan():\n",
    "    from UbahBilangan.bilangan import decimalToBinary, decimalToOctal, decimalToHexadecimal\n",
    "    while True:\n",
    "        print(\"\"\"\n",
    "        ===Menu Ubah Bilangan===\n",
    "        1. Desimal ke Biner\n",
    "        2. Desimal ke Oktal\n",
    "        3. Desimal ke Hexadesimal\n",
    "        4. Kembali\n",
    "        \"\"\")\n",
    "        try:\n",
    "            pilih = int(input(\"Pilih Fungsi: \"))\n",
    "            if pilih in [1, 2, 3]:\n",
    "                num = int(input(\"Masukkan bilangan desimal: \"))\n",
    "                if pilih == 1:\n",
    "                    hasil = decimalToBinary(num)\n",
    "                    print(f\"Biner: {hasil}\")\n",
    "                elif pilih == 2:\n",
    "                    hasil = decimalToOctal(num)\n",
    "                    print(f\"Oktal: {hasil}\")\n",
    "                elif pilih == 3:\n",
    "                    hasil = decimalToHexadecimal(num)\n",
    "                    print(f\"Hexadesimal: {hasil}\")\n",
    "            elif pilih == 4:\n",
    "                break\n",
    "            else:\n",
    "                print(\"Pilihan tidak valid!\")\n",
    "        except ValueError:\n",
    "            print(\"Masukkan angka yang valid!\")"
   ]
  },
  {
   "cell_type": "code",
   "execution_count": 5,
   "id": "33f39ca2-bf93-45d7-86dc-7962aea9fd79",
   "metadata": {},
   "outputs": [
    {
     "name": "stdout",
     "output_type": "stream",
     "text": [
      "\n",
      "        1. Aritmatika\n",
      "        2. Konversi Satuan\n",
      "        3. Ubah Bilangan\n",
      "        4. Exit\n",
      "        \n"
     ]
    },
    {
     "name": "stdin",
     "output_type": "stream",
     "text": [
      "Pilih Menu:  3\n"
     ]
    },
    {
     "name": "stdout",
     "output_type": "stream",
     "text": [
      "\n",
      "        ===Menu Ubah Bilangan===\n",
      "        1. Desimal ke Biner\n",
      "        2. Desimal ke Oktal\n",
      "        3. Desimal ke Hexadesimal\n",
      "        4. Kembali\n",
      "        \n"
     ]
    },
    {
     "name": "stdin",
     "output_type": "stream",
     "text": [
      "Pilih Fungsi:  3\n",
      "Masukkan bilangan desimal:  100\n"
     ]
    },
    {
     "name": "stdout",
     "output_type": "stream",
     "text": [
      "Hexadesimal: 0x64\n",
      "\n",
      "        ===Menu Ubah Bilangan===\n",
      "        1. Desimal ke Biner\n",
      "        2. Desimal ke Oktal\n",
      "        3. Desimal ke Hexadesimal\n",
      "        4. Kembali\n",
      "        \n"
     ]
    },
    {
     "name": "stdin",
     "output_type": "stream",
     "text": [
      "Pilih Fungsi:  4\n"
     ]
    },
    {
     "name": "stdout",
     "output_type": "stream",
     "text": [
      "\n",
      "        1. Aritmatika\n",
      "        2. Konversi Satuan\n",
      "        3. Ubah Bilangan\n",
      "        4. Exit\n",
      "        \n"
     ]
    },
    {
     "name": "stdin",
     "output_type": "stream",
     "text": [
      "Pilih Menu:  4\n"
     ]
    },
    {
     "name": "stdout",
     "output_type": "stream",
     "text": [
      "Terima kasih telah menggunakan program ini!\n"
     ]
    }
   ],
   "source": [
    "def menuUtama():\n",
    "    while True:\n",
    "        print(\"\"\"\n",
    "        1. Aritmatika\n",
    "        2. Konversi Satuan\n",
    "        3. Ubah Bilangan\n",
    "        4. Exit\n",
    "        \"\"\")\n",
    "        try:\n",
    "            choice = int(input(\"Pilih Menu: \"))\n",
    "            if choice == 1:\n",
    "                menuAritmatika()\n",
    "            elif choice == 2:\n",
    "                menuKonversiSatuan()\n",
    "            elif choice == 3:\n",
    "                menuUbahBilangan()\n",
    "            elif choice == 4:\n",
    "                print(\"Terima kasih telah menggunakan program ini!\")\n",
    "                break\n",
    "            else:\n",
    "                print(\"Pilihan tidak valid!\")\n",
    "        except ValueError:\n",
    "            print(\"Masukkan angka yang valid!\")\n",
    "\n",
    "if __name__ == \"__main__\":\n",
    "    menuUtama()"
   ]
  },
  {
   "cell_type": "code",
   "execution_count": null,
   "id": "faa28714-bfa2-4688-bf00-491fbf6566e6",
   "metadata": {},
   "outputs": [],
   "source": []
  }
 ],
 "metadata": {
  "kernelspec": {
   "display_name": "Python [conda env:base] *",
   "language": "python",
   "name": "conda-base-py"
  },
  "language_info": {
   "codemirror_mode": {
    "name": "ipython",
    "version": 3
   },
   "file_extension": ".py",
   "mimetype": "text/x-python",
   "name": "python",
   "nbconvert_exporter": "python",
   "pygments_lexer": "ipython3",
   "version": "3.12.7"
  }
 },
 "nbformat": 4,
 "nbformat_minor": 5
}
