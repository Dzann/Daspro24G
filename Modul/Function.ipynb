{
 "cells": [
  {
   "cell_type": "code",
   "execution_count": 19,
   "id": "a025c28d-9681-4756-b94a-6b46dc358af7",
   "metadata": {
    "jupyter": {
     "source_hidden": true
    }
   },
   "outputs": [
    {
     "name": "stdout",
     "output_type": "stream",
     "text": [
      "2025-05-23\n",
      "Today is work day\n"
     ]
    }
   ],
   "source": [
    "#Function tanpa parameter\n",
    "import datetime\n",
    "def showDate():\n",
    "    today = datetime.date.today()\n",
    "    print(today)\n",
    "\n",
    "def isWeekday():\n",
    "    day = datetime.date.today().weekday()\n",
    "    if day >=5:\n",
    "        print(\"Today is weekend\")\n",
    "    else :\n",
    "        print(\"Today is work day\")\n",
    "        \n",
    "showDate()\n",
    "isWeekday()"
   ]
  },
  {
   "cell_type": "code",
   "execution_count": 7,
   "id": "8807bb97-c71c-420e-9cf0-010b3521efd8",
   "metadata": {
    "jupyter": {
     "source_hidden": true
    }
   },
   "outputs": [
    {
     "name": "stdout",
     "output_type": "stream",
     "text": [
      "Muhamad Gidzane Mustofa,S.Kom\n"
     ]
    }
   ],
   "source": [
    "#function dengan paramenter\n",
    "def getFullName(first,middle,last):\n",
    "    return f\"{first}{middle}{last},S.Kom\"\n",
    "\n",
    "print(getFullName(\"Muhamad \", \"Gidzane \", \"Mustofa\"))"
   ]
  },
  {
   "cell_type": "code",
   "execution_count": 53,
   "id": "5f785370-d508-4d03-af96-9b4faecaec61",
   "metadata": {
    "jupyter": {
     "source_hidden": true
    }
   },
   "outputs": [
    {
     "name": "stdout",
     "output_type": "stream",
     "text": [
      "Hasil Penjumlahan = 15\n",
      "Hasil Perkalian = 50\n",
      "Penjumlahan 10 dan 5 = 15\n",
      "Perkalian 4 dan 5 = 20\n",
      "Penjumlahan r1 dan r2 = 35\n"
     ]
    }
   ],
   "source": [
    "def add(num1, num2):\n",
    "    return num1 + num2\n",
    "\n",
    "def multiply(num1, num2):\n",
    "    return num1 * num2\n",
    "\n",
    "\n",
    "def aritmath(num1, num2):\n",
    "    add = num1 + num2\n",
    "    multiply = num1 * num2\n",
    "    return add, multiply\n",
    "\n",
    "r1 = add(5,10)\n",
    "r2 = multiply(4,5)\n",
    "r3 = add(r1,r2)\n",
    "\n",
    "r4,r5= aritmath(10,5)\n",
    "print(f\"Hasil Penjumlahan = {r4}\")\n",
    "print(f\"Hasil Perkalian = {r5}\")\n",
    "\n",
    "print(f\"Penjumlahan 10 dan 5 = {r1}\")\n",
    "print(f\"Perkalian 4 dan 5 = {r2}\")\n",
    "print(f\"Penjumlahan r1 dan r2 = {r3}\")"
   ]
  },
  {
   "cell_type": "code",
   "execution_count": 43,
   "id": "057988b8-ca42-47aa-bc3b-7cae9740383f",
   "metadata": {
    "collapsed": true,
    "jupyter": {
     "outputs_hidden": true,
     "source_hidden": true
    },
    "scrolled": true
   },
   "outputs": [
    {
     "name": "stdout",
     "output_type": "stream",
     "text": [
      "Registration is successfull\n",
      "Username : Gidzan\n",
      "Password : 11111\n",
      "Status : False\n",
      "Role : atmin\n",
      "\n"
     ]
    }
   ],
   "source": [
    "#function dengan nilai default\n",
    "def userRegist(username, password, status=False, role=\"user\"):\n",
    "    result = \"Registration is successfull\\n\"\n",
    "    result += f\"Username : {username}\\n\"\n",
    "    result += f\"Password : {password}\\n\"\n",
    "    result += f\"Status : {status}\\n\"\n",
    "    result += f\"Role : {role}\\n\"\n",
    "    return result\n",
    "\n",
    "print(userRegist(\"Gidzan\", \"11111\", role=\"atmin\"))"
   ]
  },
  {
   "cell_type": "code",
   "execution_count": 1,
   "id": "49e65112-e4d8-4130-a45b-6375ddfaff7e",
   "metadata": {
    "collapsed": true,
    "jupyter": {
     "outputs_hidden": true,
     "source_hidden": true
    }
   },
   "outputs": [
    {
     "name": "stdout",
     "output_type": "stream",
     "text": [
      "Mon\n",
      "{'name': 'Dzann', 'birthday': '27 bulan mei'}\n",
      "Dzann\n",
      "27 bulan mei\n"
     ]
    }
   ],
   "source": [
    "def printData(*arg, **kwarg):\n",
    "    return arg, kwarg\n",
    "\n",
    "arg,kwarg = printData(\"Mon\",\"Tue\", \"Wed\", name =\"Dzann\", birthday=\"27 bulan mei\")\n",
    "\n",
    "print(arg[0])\n",
    "print(kwarg)\n",
    "\n",
    "for i in kwarg.items():\n",
    "    print(i[1])"
   ]
  },
  {
   "cell_type": "code",
   "execution_count": 47,
   "id": "ed62f78b-ddbd-4f11-9d9f-d1151590561c",
   "metadata": {
    "jupyter": {
     "source_hidden": true
    }
   },
   "outputs": [
    {
     "name": "stdout",
     "output_type": "stream",
     "text": [
      "15\n",
      "120\n",
      "operator tidak dikenali\n"
     ]
    }
   ],
   "source": [
    "#buatlah function untuk menjumlahkan semua nilai yang ada di parameter\n",
    "import numpy\n",
    "\n",
    "def math(*arg, **kwarg):\n",
    "    if kwarg [\"operator\"] == \"p\":\n",
    "        add = 0\n",
    "        for i in arg : \n",
    "            add += i\n",
    "        hasil = add\n",
    "    elif kwarg [\"operator\"] == \"*\":\n",
    "        multi = 1\n",
    "        for i in arg :\n",
    "            multi *= i\n",
    "        hasil = multi\n",
    "    else :\n",
    "        return \"operator tidak dikenali\"\n",
    "    return hasil\n",
    "print(math(1,2,3,4,5, operator = \"p\"))\n",
    "print(math(1,2,3,4,5, operator = \"*\"))\n",
    "print(math(1,2,3,4,5, operator = \"s\"))"
   ]
  },
  {
   "cell_type": "code",
   "execution_count": null,
   "id": "93d92e56-5391-4e87-a291-293bb76acf8f",
   "metadata": {},
   "outputs": [],
   "source": []
  }
 ],
 "metadata": {
  "kernelspec": {
   "display_name": "Python [conda env:base] *",
   "language": "python",
   "name": "conda-base-py"
  },
  "language_info": {
   "codemirror_mode": {
    "name": "ipython",
    "version": 3
   },
   "file_extension": ".py",
   "mimetype": "text/x-python",
   "name": "python",
   "nbconvert_exporter": "python",
   "pygments_lexer": "ipython3",
   "version": "3.12.7"
  }
 },
 "nbformat": 4,
 "nbformat_minor": 5
}
