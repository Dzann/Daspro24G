{
 "cells": [
  {
   "cell_type": "code",
   "execution_count": 2,
   "id": "eafa1292-1430-4637-8f0a-bbb1fddf70e7",
   "metadata": {},
   "outputs": [
    {
     "name": "stdin",
     "output_type": "stream",
     "text": [
      "Masukan Nama Muhamad Gidzane Mustofa\n",
      "Masukana NIM 20240040132\n",
      "Masukan Kelas Ti24G\n"
     ]
    },
    {
     "name": "stdout",
     "output_type": "stream",
     "text": [
      "Nama: Muhamad Gidzane Mustofa NIM: 20240040132 Kelas: Ti24G\n"
     ]
    }
   ],
   "source": [
    "nama = input(\"Masukan Nama\")\n",
    "nim = input(\"Masukana NIM\")\n",
    "kelas = input(\"Masukan Kelas\")\n",
    "print(f\"Nama: {nama} NIM: {nim} Kelas: {kelas}\")"
   ]
  },
  {
   "cell_type": "code",
   "execution_count": 6,
   "id": "0c804188-cd6a-4782-9e20-184f5c115735",
   "metadata": {},
   "outputs": [
    {
     "name": "stdout",
     "output_type": "stream",
     "text": [
      "1. putra nusa\n",
      "2. NIVERSITAS NSA PTRA SKABMI\n",
      "3. SUKABUMI PUTRA NUSA UNIVERSITAS\n",
      "4. UNPS\n",
      "5. TAS SAPU BUMI\n"
     ]
    }
   ],
   "source": [
    "kalimat = \"UNIVERSITAS NUSA PUTRA SUKABUMI\"\n",
    "kata =kalimat.split(' ')\n",
    "print(\"1.\",kata[2].lower(),kata[1].lower())\n",
    "print(\"2.\",kalimat.replace(\"U\",\"\"))\n",
    "print(\"3.\",kata[3],kata[2],kata[1],kata[0])\n",
    "print(\"4.\",kata[0][0]+kata[1][0]+kata[2][0]+kata[3][0])\n",
    "print(\"5.\",kata[0][-3:], kata[1][-2:]+kata[2][:2],kata[3][-4:])"
   ]
  }
 ],
 "metadata": {
  "kernelspec": {
   "display_name": "Python [conda env:base] *",
   "language": "python",
   "name": "conda-base-py"
  },
  "language_info": {
   "codemirror_mode": {
    "name": "ipython",
    "version": 3
   },
   "file_extension": ".py",
   "mimetype": "text/x-python",
   "name": "python",
   "nbconvert_exporter": "python",
   "pygments_lexer": "ipython3",
   "version": "3.12.7"
  }
 },
 "nbformat": 4,
 "nbformat_minor": 5
}
