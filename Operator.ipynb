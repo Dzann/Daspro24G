{
 "cells": [
  {
   "cell_type": "markdown",
   "id": "1f6f04ed-c7b4-4209-a03c-ee2ab536040b",
   "metadata": {
    "jp-MarkdownHeadingCollapsed": true
   },
   "source": [
    "<h1>Latihan Sesi 4</h1>"
   ]
  },
  {
   "cell_type": "code",
   "execution_count": 65,
   "id": "23690d68-1ad4-4e71-b41b-533055574070",
   "metadata": {},
   "outputs": [
    {
     "name": "stdin",
     "output_type": "stream",
     "text": [
      "Beli berapa es buah: 10\n",
      "Beli berapa es teler: 10\n",
      "Beli berapa es kelapa: 10\n"
     ]
    },
    {
     "name": "stdout",
     "output_type": "stream",
     "text": [
      "Total EsBuah : 6000 * 10 = 60000\n",
      "Total EsTeler : 10000 * 10 = 100000\n",
      "Total EsKelapa : 15000 * 10 = 150000\n",
      "========================\n",
      "Total Belanja : 310000\n",
      "total diskon : 31000\n",
      "========================\n",
      "Total Harga (diskon): 279000\n"
     ]
    }
   ],
   "source": [
    "esBuah = 6000\n",
    "esTeler = 10000\n",
    "esKelapa = 15000\n",
    "\n",
    "qtyEsBuah = int(input(\"Beli berapa es buah:\"))\n",
    "qtyEsTeler = int(input(\"Beli berapa es teler:\"))\n",
    "qtyEsKelapa = int(input(\"Beli berapa es kelapa:\"))\n",
    "\n",
    "totalEsBuah = qtyEsBuah * esBuah\n",
    "totalEsTeler = qtyEsTeler * esTeler\n",
    "totalEsKelapa = qtyEsKelapa * esKelapa\n",
    "print(\"Total EsBuah :\", esBuah, \"*\", qtyEsBuah, \"=\", totalEsBuah)\n",
    "print(\"Total EsTeler :\", esTeler, \"*\", qtyEsTeler, \"=\", totalEsTeler)\n",
    "print(\"Total EsKelapa :\", esKelapa, \"*\", qtyEsKelapa, \"=\", totalEsKelapa)\n",
    "\n",
    "totalSemua = totalEsBuah + totalEsTeler + totalEsKelapa\n",
    "\n",
    "print(\"========================\")\n",
    "print (\"Total Belanja :\", totalSemua)\n",
    "diskon = totalSemua*1//10 if totalSemua >= 100000 else 0\n",
    "print(\"total diskon :\",diskon)\n",
    "print(\"========================\")\n",
    "print(\"Total Harga (diskon):\", totalSemua - diskon)"
   ]
  },
  {
   "cell_type": "code",
   "execution_count": null,
   "id": "662e5316-b5fc-43bb-93c8-251d58f74444",
   "metadata": {},
   "outputs": [],
   "source": [
    "\n",
    "bil = input(\"Isi Bilangan :\")\n",
    "kurang = int(bil[0])+int(bil[1])+int(bil[2])+int(bil[3])\n",
    "print(\"hasil :\",int(bil) - kurang)"
   ]
  },
  {
   "cell_type": "markdown",
   "id": "d0390226-bfbc-4bfa-b209-6cfda1b3441e",
   "metadata": {
    "jp-MarkdownHeadingCollapsed": true
   },
   "source": [
    "<h1>Operator Ternary</h1>"
   ]
  },
  {
   "cell_type": "code",
   "execution_count": 11,
   "id": "e1e994ba-89e5-4f71-90e6-58fedfa5afd0",
   "metadata": {},
   "outputs": [
    {
     "name": "stdin",
     "output_type": "stream",
     "text": [
      "Isikan Bilangan : 4\n"
     ]
    },
    {
     "name": "stdout",
     "output_type": "stream",
     "text": [
      "4 adalah bilangan Genap\n"
     ]
    }
   ],
   "source": [
    "#Bilangan ganjil atau genap\n",
    "bil = int(input(\"Isikan Bilangan :\"))\n",
    "oddEven = \"Genap\" if bil %2==0 else \"Ganjil\"\n",
    "\n",
    "print(bil, \"adalah bilangan\", oddEven)"
   ]
  },
  {
   "cell_type": "markdown",
   "id": "65b7ea1e-ed08-4925-9630-9990b549f642",
   "metadata": {
    "jp-MarkdownHeadingCollapsed": true
   },
   "source": [
    "<h1>Operator Bitwise</h1>"
   ]
  },
  {
   "cell_type": "code",
   "execution_count": 1,
   "id": "92636345-9fe5-486f-8793-6f38c151d346",
   "metadata": {},
   "outputs": [
    {
     "name": "stdin",
     "output_type": "stream",
     "text": [
      "Insert bilangan 1 : 10\n",
      "Insert bilangan 2 : 2\n"
     ]
    },
    {
     "name": "stdout",
     "output_type": "stream",
     "text": [
      "\n",
      "0b1010\n",
      "0b10\n",
      "==========\n",
      "0b10 = 2\n",
      "\n",
      "0b1010\n",
      "0b10\n",
      "==========\n",
      "0b1010 = 10\n"
     ]
    }
   ],
   "source": [
    "num1 = int(input(\"Insert bilangan 1 :\"))\n",
    "num2 = int(input(\"Insert bilangan 2 :\"))\n",
    "print()\n",
    "bAnd = num1 & num2\n",
    "print(bin(num1))\n",
    "print(bin(num2))\n",
    "print(\"==========\")\n",
    "print(bin(bAnd), \"=\", bAnd)\n",
    "\n",
    "print()\n",
    "bOr = num1 | num2\n",
    "print(bin(num1))\n",
    "print(bin(num2))\n",
    "print(\"==========\")\n",
    "print(bin(bOr), \"=\", bOr)"
   ]
  },
  {
   "cell_type": "markdown",
   "id": "2b399cf1-b723-4065-abe4-aeea94fd6535",
   "metadata": {
    "jp-MarkdownHeadingCollapsed": true
   },
   "source": [
    "<h1>Operator Identitas</h1>"
   ]
  },
  {
   "cell_type": "code",
   "execution_count": 87,
   "id": "c5325cbc-b060-42ea-ab90-0cb04ffc722d",
   "metadata": {},
   "outputs": [
    {
     "name": "stdin",
     "output_type": "stream",
     "text": [
      "Inser Your Fruit : Mango\n"
     ]
    },
    {
     "name": "stdout",
     "output_type": "stream",
     "text": [
      "Is there any Mango in ['Watermelon', 'Mango', 'Star Fruit', 'Pineapple'] ? True\n",
      "Is there any Mango not in ['Watermelon', 'Mango', 'Star Fruit', 'Pineapple'] ? False\n"
     ]
    }
   ],
   "source": [
    "listFruit = [\"Watermelon\", \"Mango\", \"Star Fruit\", \"Pineapple\"]\n",
    "findFruit = input(\"Inser Your Fruit :\")\n",
    "\n",
    "print(\"Is there any\", findFruit ,\"in\", listFruit, \"?\", findFruit in listFruit)\n",
    "print(\"Is there any\", findFruit ,\"not in\", listFruit, \"?\", findFruit not in listFruit)"
   ]
  },
  {
   "cell_type": "markdown",
   "id": "56c358cc-52d1-4645-a5de-87338048998e",
   "metadata": {
    "jp-MarkdownHeadingCollapsed": true
   },
   "source": [
    "<h1>Operator Keanggotaan (Member)</h1>"
   ]
  },
  {
   "cell_type": "code",
   "execution_count": 65,
   "id": "d0cfdf40-a87c-4a99-83e3-c94cbde1b103",
   "metadata": {},
   "outputs": [
    {
     "name": "stdout",
     "output_type": "stream",
     "text": [
      "Alamat Memori idty1 140712144874200\n",
      "Alamat Memori idty2 2086271118064\n",
      "Alamat Memori idty3 140712144874200\n",
      "Apakah idty1 is idty2 False\n",
      "Apakah idty2 is idty3 False\n",
      "Apakah idty3 is idty1 True\n",
      "Apakah idty1 is not idty2 True\n",
      "Apakah idty2 is not idty3 True\n",
      "Apakah idty3 is not idty1 False\n"
     ]
    }
   ],
   "source": [
    "idty1 = 10\n",
    "idty2 = \"10\"\n",
    "idty3 = idty1\n",
    "\n",
    "print(\"Alamat Memori idty1\", id(idty1))\n",
    "print(\"Alamat Memori idty2\", id(idty2))\n",
    "print(\"Alamat Memori idty3\", id(idty3))\n",
    "\n",
    "print(\"Apakah idty1 is idty2\", idty1 is idty2)\n",
    "print(\"Apakah idty2 is idty3\", idty2 is idty3)\n",
    "print(\"Apakah idty3 is idty1\", idty3 is idty1)\n",
    "\n",
    "print(\"Apakah idty1 is not idty2\", idty1 is not idty2)\n",
    "print(\"Apakah idty2 is not idty3\", idty2 is not idty3)\n",
    "print(\"Apakah idty3 is not idty1\", idty3 is not idty1)"
   ]
  },
  {
   "cell_type": "markdown",
   "id": "256d9a50-2d35-4d5f-81c0-a46ad982dbbf",
   "metadata": {
    "jp-MarkdownHeadingCollapsed": true
   },
   "source": [
    "<h1>Operator Aritmatika</h1>"
   ]
  },
  {
   "cell_type": "code",
   "execution_count": 53,
   "id": "24996752-526d-408e-903d-f4d200769bf7",
   "metadata": {},
   "outputs": [
    {
     "name": "stdin",
     "output_type": "stream",
     "text": [
      "Isikan Nilai X : 10\n",
      "Isikan Nilai Y : 10\n"
     ]
    },
    {
     "name": "stdout",
     "output_type": "stream",
     "text": [
      "Hasil tambah dari 10 + 10 = 20\n",
      "Hasil kurang dari 10 - 10 = 0\n",
      "Hasil perkalian dari 10 * 10 = 100\n",
      "Hasil pembagian dari 10 / 10 = 1.0\n",
      "Hasil modulus dari 10 % 10 = 0\n",
      "Hasil pangkat dari 10 ^ 10 = 10000000000\n",
      "Hasil bagi bulat dari 10 // 10 = 1\n"
     ]
    }
   ],
   "source": [
    "x = int(input(\"Isikan Nilai X :\"))\n",
    "y = int(input(\"Isikan Nilai Y :\"))\n",
    "\n",
    "hasilTambah = x + y\n",
    "hasilKurang = x - y\n",
    "hasilKali = x * y\n",
    "hasilBagi = x / y\n",
    "hasilMod = x % y\n",
    "hasilPangkat = x ** y \n",
    "hasilBagiBulat = x // y\n",
    "\n",
    "print(\"Hasil tambah dari\", x , \"+\", y, \"=\", hasilTambah)\n",
    "print(\"Hasil kurang dari\", x , \"-\", y, \"=\", hasilKurang)\n",
    "print(\"Hasil perkalian dari\", x , \"*\", y, \"=\", hasilKali)\n",
    "print(\"Hasil pembagian dari\", x , \"/\", y, \"=\", hasilBagi)\n",
    "print(\"Hasil modulus dari\", x , \"%\", y, \"=\", hasilMod)\n",
    "print(\"Hasil pangkat dari\", x , \"^\", y, \"=\", hasilPangkat)\n",
    "print(\"Hasil bagi bulat dari\", x , \"//\", y, \"=\", hasilBagiBulat)"
   ]
  },
  {
   "cell_type": "markdown",
   "id": "c202bc9b-d95d-4b33-81cc-17c40b4e6912",
   "metadata": {
    "jp-MarkdownHeadingCollapsed": true
   },
   "source": [
    "<h1>Operator Penugasan</h1>"
   ]
  },
  {
   "cell_type": "code",
   "execution_count": 55,
   "id": "022ef4e0-4dff-43f9-abef-9a793de59e15",
   "metadata": {},
   "outputs": [
    {
     "name": "stdin",
     "output_type": "stream",
     "text": [
      "Isikan Nilai : 10\n"
     ]
    },
    {
     "name": "stdout",
     "output_type": "stream",
     "text": [
      "Nilai Dari Variable 'number' 10\n",
      "Setelah ditambah dengan 5 = 15\n",
      "Setelah dikurangi 10 = 5\n",
      "Setelah dibagi 2 = 2.5\n",
      "Setelah dikali 10 = 25.0\n"
     ]
    }
   ],
   "source": [
    "number = int(input(\"Isikan Nilai :\"))\n",
    "print(\"Nilai Dari Variable 'number'\", number)\n",
    "number+= 5\n",
    "print(\"Setelah ditambah dengan 5 =\", number)\n",
    "number-= 10\n",
    "print(\"Setelah dikurangi 10 =\", number)\n",
    "number/= 2\n",
    "print (\"Setelah dibagi 2 =\", number)\n",
    "number*= 10\n",
    "print(\"Setelah dikali 10 =\", number)"
   ]
  },
  {
   "cell_type": "markdown",
   "id": "f8bcb351-9d57-4165-82b7-23ed2def7776",
   "metadata": {
    "jp-MarkdownHeadingCollapsed": true
   },
   "source": [
    "<h1>Operator Perbandingan</h1>"
   ]
  },
  {
   "cell_type": "code",
   "execution_count": 57,
   "id": "fd599a09-2d7f-4996-9555-cec68dacc5d3",
   "metadata": {},
   "outputs": [
    {
     "name": "stdin",
     "output_type": "stream",
     "text": [
      "Isikan Nilai val1 : 10\n",
      "Isikan Nilai val2 : 10\n"
     ]
    },
    {
     "name": "stdout",
     "output_type": "stream",
     "text": [
      "Apakah 10 > 10 ? False\n",
      "Apakah 10 < 10 ? False\n",
      "Apakah 10 >= 10 ? True\n",
      "Apakah 10 <= 10 ? True\n",
      "Apakah 10 == 10 ? True\n",
      "Apakah 10 != 10 ? False\n"
     ]
    }
   ],
   "source": [
    "val1 = int(input(\"Isikan Nilai val1 :\"))\n",
    "val2 = int(input(\"Isikan Nilai val2 :\"))\n",
    "\n",
    "print(\"Apakah\", val1, \">\", val2, \"?\", val1 > val2)\n",
    "print(\"Apakah\", val1, \"<\", val2, \"?\", val1 < val2)\n",
    "print(\"Apakah\", val1, \">=\", val2, \"?\", val1 >= val2)\n",
    "print(\"Apakah\", val1, \"<=\", val2, \"?\", val1 <= val2)\n",
    "print(\"Apakah\", val1, \"==\", val2, \"?\", val1 == val2)\n",
    "print(\"Apakah\", val1, \"!=\", val2, \"?\", val1 != val2)"
   ]
  },
  {
   "cell_type": "markdown",
   "id": "b30ab016-a5de-46e9-91ee-ef38f1dd9624",
   "metadata": {
    "jp-MarkdownHeadingCollapsed": true
   },
   "source": [
    "<h1>Operator Logika</h1>"
   ]
  },
  {
   "cell_type": "code",
   "execution_count": 59,
   "id": "381ada36-d787-46e3-9781-c31f51e2d0c5",
   "metadata": {},
   "outputs": [
    {
     "name": "stdin",
     "output_type": "stream",
     "text": [
      "isikan Number1 : 5\n",
      "isikan Number2 : 4\n",
      "isikan Number3 : 4\n",
      "isikan Number4 : 4\n"
     ]
    },
    {
     "name": "stdout",
     "output_type": "stream",
     "text": [
      "Apakah 5 > 4 and 4 == 4 :\n",
      "True\n",
      "Apakah 5 > 4 or 4 == 4 :\n",
      "True\n",
      "Apakah 5 > 4 not and 4 == 4 :\n",
      "False\n"
     ]
    }
   ],
   "source": [
    "number1 = int(input(\"isikan Number1 :\"))\n",
    "number2 = int(input(\"isikan Number2 :\"))\n",
    "number3 = int(input(\"isikan Number3 :\"))\n",
    "number4 = int(input(\"isikan Number4 :\"))\n",
    "\n",
    "print(\"Apakah\", number1, \">\", number2, \"and\", number3, \"==\", number4, \":\")\n",
    "print(number1>number2 and number3 == number4)\n",
    "\n",
    "print(\"Apakah\", number1, \">\", number2, \"or\", number3, \"==\", number4, \":\")\n",
    "print(number1>number2 or number3 == number4)\n",
    "\n",
    "print(\"Apakah\", number1, \">\", number2, \"not and\", number3, \"==\", number4, \":\")\n",
    "print(not(number1>number2 or number3 == number4))"
   ]
  }
 ],
 "metadata": {
  "kernelspec": {
   "display_name": "Python [conda env:base] *",
   "language": "python",
   "name": "conda-base-py"
  },
  "language_info": {
   "codemirror_mode": {
    "name": "ipython",
    "version": 3
   },
   "file_extension": ".py",
   "mimetype": "text/x-python",
   "name": "python",
   "nbconvert_exporter": "python",
   "pygments_lexer": "ipython3",
   "version": "3.12.7"
  }
 },
 "nbformat": 4,
 "nbformat_minor": 5
}
