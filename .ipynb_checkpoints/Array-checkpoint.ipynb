{
 "cells": [
  {
   "cell_type": "markdown",
   "id": "aadd883a-e40c-45c6-8e97-36f36c2a03d1",
   "metadata": {
    "jp-MarkdownHeadingCollapsed": true
   },
   "source": [
    "<h1>Numpy</h1>"
   ]
  },
  {
   "cell_type": "code",
   "execution_count": 5,
   "id": "8d572b2d-8088-48bb-85e3-9818648db75a",
   "metadata": {},
   "outputs": [],
   "source": [
    "import numpy as np\n",
    "import pandas as pd"
   ]
  },
  {
   "cell_type": "code",
   "execution_count": 25,
   "id": "113df847-334c-40fd-b74f-3752d98d1946",
   "metadata": {
    "jupyter": {
     "source_hidden": true
    }
   },
   "outputs": [],
   "source": [
    "mat1D = np.array([1,2,3,4,5,6,7,8,9])\n",
    "mat2D = np.array([[10,20,30,40],[50,60,70,80],[90,100,110,120]])"
   ]
  },
  {
   "cell_type": "code",
   "execution_count": 29,
   "id": "b9a30d03-411e-439d-9ea2-a8899e69cf0a",
   "metadata": {
    "collapsed": true,
    "jupyter": {
     "outputs_hidden": true,
     "source_hidden": true
    }
   },
   "outputs": [
    {
     "name": "stdout",
     "output_type": "stream",
     "text": [
      "Nilai Mat1D =\n",
      "[1 2 3 4 5 6 7 8 9]\n",
      "Nilai Mat2D =\n",
      "[[ 10  20  30  40]\n",
      " [ 50  60  70  80]\n",
      " [ 90 100 110 120]]\n"
     ]
    }
   ],
   "source": [
    "print(f\"Nilai Mat1D =\\n{mat1D}\")\n",
    "print(f\"Nilai Mat2D =\\n{mat2D}\")"
   ]
  },
  {
   "cell_type": "code",
   "execution_count": 48,
   "id": "b48c94e6-2690-484b-9a4d-32baef00f4d5",
   "metadata": {
    "collapsed": true,
    "jupyter": {
     "outputs_hidden": true,
     "source_hidden": true
    }
   },
   "outputs": [
    {
     "name": "stdout",
     "output_type": "stream",
     "text": [
      "2\n",
      "[50 60 70 80]\n",
      "70\n",
      "mat1D + 10 = \n",
      "[11 12 13 14 15 16 17 18 19]\n",
      "mat2D + 10 = \n",
      "[[ 20  30  40  50]\n",
      " [ 60  70  80  90]\n",
      " [100 110 120 130]]\n"
     ]
    }
   ],
   "source": [
    "print(mat1D[1])\n",
    "print(mat2D[1])\n",
    "print(mat2D[1][2])\n",
    "print(f\"mat1D + 10 = \\n{mat1D + 10}\")\n",
    "print(f\"mat2D + 10 = \\n{mat2D + 10}\")"
   ]
  },
  {
   "cell_type": "code",
   "execution_count": 56,
   "id": "4c7dbd6e-d1ab-4dc0-b0b8-fb9cbbf0d071",
   "metadata": {
    "collapsed": true,
    "jp-MarkdownHeadingCollapsed": true,
    "jupyter": {
     "outputs_hidden": true,
     "source_hidden": true
    }
   },
   "outputs": [
    {
     "name": "stdout",
     "output_type": "stream",
     "text": [
      "(9,)\n",
      "9\n",
      "(3, 4)\n",
      "12\n"
     ]
    }
   ],
   "source": [
    "print(mat1D.shape)\n",
    "print(mat1D.size)\n",
    "print(mat2D.shape)\n",
    "print(mat2D.size)"
   ]
  },
  {
   "cell_type": "code",
   "execution_count": 35,
   "id": "5e67111a-a0d6-4e0b-aa01-b820abaa9ea6",
   "metadata": {
    "jupyter": {
     "source_hidden": true
    }
   },
   "outputs": [],
   "source": [
    "#Matriks Special\n",
    "mZero = np.zeros((4,4))\n",
    "mOnes = np.ones((3,3))\n",
    "mIden = np.eye(3)\n",
    "mFull = np.full((3,4),9)\n",
    "mRand1D = np.random.rand(5)\n",
    "mRandInt1D = np.random.randint(1,100, size = 8)\n",
    "mRand2D = np.random.rand(3,4)\n",
    "mRandInt2D = np.random.randint(1,100, size = (3,3))"
   ]
  },
  {
   "cell_type": "code",
   "execution_count": 37,
   "id": "4016901d-6633-417c-ab59-3ec75f3176db",
   "metadata": {
    "collapsed": true,
    "jupyter": {
     "outputs_hidden": true,
     "source_hidden": true
    }
   },
   "outputs": [
    {
     "name": "stdout",
     "output_type": "stream",
     "text": [
      "mZero = \n",
      "[[0. 0. 0. 0.]\n",
      " [0. 0. 0. 0.]\n",
      " [0. 0. 0. 0.]\n",
      " [0. 0. 0. 0.]]\n",
      "mOnes = \n",
      "[[1. 1. 1.]\n",
      " [1. 1. 1.]\n",
      " [1. 1. 1.]]\n",
      "mIdentity = \n",
      "[[1. 0. 0.]\n",
      " [0. 1. 0.]\n",
      " [0. 0. 1.]]\n",
      "mFull = \n",
      "[[9 9 9 9]\n",
      " [9 9 9 9]\n",
      " [9 9 9 9]]\n",
      "mRand1D = \n",
      "[0.44982733 0.2940834  0.35709494 0.25535956 0.20552678]\n",
      "mRand2D = \n",
      "[[0.15234097 0.5375246  0.81613102 0.09522509]\n",
      " [0.55601768 0.58723323 0.811989   0.30217399]\n",
      " [0.46609917 0.20814702 0.41468573 0.15735264]]\n",
      "mRandInt1D = \n",
      "[43  3 61 19 66 55 61 86]\n",
      "mRandInt2D = \n",
      "[[13 54 60]\n",
      " [88 90  4]\n",
      " [65 98 78]]\n"
     ]
    }
   ],
   "source": [
    "print(f\"mZero = \\n{mZero}\")\n",
    "print(f\"mOnes = \\n{mOnes}\")\n",
    "print(f\"mIdentity = \\n{mIden}\")\n",
    "print(f\"mFull = \\n{mFull}\")\n",
    "print(f\"mRand1D = \\n{mRand1D}\")\n",
    "print(f\"mRand2D = \\n{mRand2D}\")\n",
    "print(f\"mRandInt1D = \\n{mRandInt1D}\")\n",
    "print(f\"mRandInt2D = \\n{mRandInt2D}\")"
   ]
  },
  {
   "cell_type": "code",
   "execution_count": 42,
   "id": "7f513a59-17d6-46a6-9c1e-94a7243c20f2",
   "metadata": {
    "collapsed": true,
    "jupyter": {
     "outputs_hidden": true,
     "source_hidden": true
    }
   },
   "outputs": [
    {
     "name": "stdout",
     "output_type": "stream",
     "text": [
      "Hasil pertambahan x dan y : [ 7  9 11 13 15]\n",
      "Hasil perkalian x dan y : 130\n"
     ]
    }
   ],
   "source": [
    "#Operasi Aritmatika\n",
    "x = np.array([1,2,3,4,5])\n",
    "y = np.array([6,7,8,9,10])\n",
    "\n",
    "r1 = np.add(x,y)\n",
    "r2 = np.dot(x,y)\n",
    "\n",
    "print(f\"Hasil pertambahan x dan y : {r1}\")\n",
    "print(f\"Hasil perkalian x dan y : {r2}\")"
   ]
  },
  {
   "cell_type": "code",
   "execution_count": 56,
   "id": "92c7380f-82ba-49d2-9a94-125d507d278d",
   "metadata": {
    "collapsed": true,
    "jupyter": {
     "outputs_hidden": true,
     "source_hidden": true
    }
   },
   "outputs": [
    {
     "name": "stdout",
     "output_type": "stream",
     "text": [
      "Nilai Pemrogrman adalah Nilai : [100  90  90  20 100  78  80  65  40]\n",
      "Nilai yang paling rendah : 20\n",
      "Nilai yang paling tinggi : 100\n",
      "Nilai yang paling rata-rata : 73.66666666666667\n",
      "Nilai Keseluruhan Mahasiswa : 663\n",
      "Nilai standar deviasi : 25.96578945886726\n",
      "Nilai tengah : 80.0\n"
     ]
    }
   ],
   "source": [
    "#Fungsi Dasar Statistik\n",
    "nilaiProgramming = np.array([100,90,90,20,100,78,80,65,40])\n",
    "\n",
    "print(f\"Nilai Pemrogrman adalah Nilai : {nilaiProgramming}\")\n",
    "print(f\"Nilai yang paling rendah : {np.min(nilaiProgramming)}\")\n",
    "print(f\"Nilai yang paling tinggi : {np.max(nilaiProgramming)}\")\n",
    "print(f\"Nilai yang paling rata-rata : {np.mean(nilaiProgramming)}\")\n",
    "print(f\"Nilai Keseluruhan Mahasiswa : {np.sum(nilaiProgramming)}\")\n",
    "print(f\"Nilai standar deviasi : {np.std(nilaiProgramming)}\")\n",
    "print(f\"Nilai tengah : {np.median(nilaiProgramming)}\")"
   ]
  },
  {
   "cell_type": "code",
   "execution_count": 68,
   "id": "04c7b9a1-5199-4573-8b10-dd0f85c9d331",
   "metadata": {
    "collapsed": true,
    "jupyter": {
     "outputs_hidden": true,
     "source_hidden": true
    }
   },
   "outputs": [
    {
     "name": "stdout",
     "output_type": "stream",
     "text": [
      "matX adalah : \n",
      "[[ 1  2  3  4  5]\n",
      " [ 6  7  8  9 10]]\n",
      "matX diubah bentuk : \n",
      "[[ 1]\n",
      " [ 2]\n",
      " [ 3]\n",
      " [ 4]\n",
      " [ 5]\n",
      " [ 6]\n",
      " [ 7]\n",
      " [ 8]\n",
      " [ 9]\n",
      " [10]]\n",
      "matX diaubah menjadi flat : \n",
      "[ 1  2  3  4  5  6  7  8  9 10]\n"
     ]
    }
   ],
   "source": [
    "#Operasi Bentuk\n",
    "matX = np.array([[1,2,3,4,5], [6,7,8,9,10]])\n",
    "print(f\"matX adalah : \\n{matX}\")\n",
    "print(f\"matX diubah bentuk : \\n{matX.reshape(10,1)}\")\n",
    "print(f\"matX diaubah menjadi flat : \\n{matX.flatten()}\")"
   ]
  },
  {
   "cell_type": "code",
   "execution_count": 70,
   "id": "e2391447-1ea1-4f38-b46d-85fb79bbe570",
   "metadata": {
    "collapsed": true,
    "jupyter": {
     "outputs_hidden": true,
     "source_hidden": true
    }
   },
   "outputs": [
    {
     "name": "stdout",
     "output_type": "stream",
     "text": [
      "Daftar Nilai Yang Lulus : [100  90  90 100  78  80  65]\n",
      "Jumlah Nilai Yang Lulus : 7\n"
     ]
    }
   ],
   "source": [
    "#Filtering\n",
    "lulus = nilaiProgramming[nilaiProgramming > 50]\n",
    "print(f\"Daftar Nilai Yang Lulus : {lulus}\")\n",
    "print(f\"Jumlah Nilai Yang Lulus : {lulus.size}\")"
   ]
  },
  {
   "cell_type": "markdown",
   "id": "15c4132b-d2a2-482f-b552-f3a0120e19cf",
   "metadata": {},
   "source": [
    "<h1>Contoh Soal</h1>\n",
    "Buatlah data set sebanyak 10.000 untuk proses klasifikasi nasabah kartu kredit\n",
    "<ol>\n",
    "    <li>Usia : 17 - 60</li>\n",
    "    <li>Gender : L/P</li>\n",
    "    <li>Gaji : 2jt - 10jt</li>\n",
    "    <li>Jumlah Anak : 0 - 6</li>\n",
    "</ol>"
   ]
  },
  {
   "cell_type": "code",
   "execution_count": 135,
   "id": "b30e021e-8434-427f-99a1-82659ede8c85",
   "metadata": {},
   "outputs": [
    {
     "name": "stdout",
     "output_type": "stream",
     "text": [
      "   Usia Gender    Gaji  Jumlah Anak\n",
      "0    18      L  7-10JT            0\n",
      "1    49      P   1-3JT            4\n",
      "2    27      P  7-10JT            1\n",
      "3    22      L   4-6JT            6\n",
      "4    24      L  7-10JT            3\n",
      "Usia Minimum: 17\n",
      "Usia Minimum: 60\n",
      "Gaji Rata Rata:  1-3JT\n",
      "Jumlah Customer Laki Laki: 5035.0\n",
      "Jumlah Customer Perempuan: 4965.0\n"
     ]
    }
   ],
   "source": [
    "import numpy as np\n",
    "import pandas as pd\n",
    "\n",
    "n_data = 10000\n",
    "usia = np.random.randint(17, 61, size=n_data)\n",
    "gender = np.random.choice(['L', 'P'], size=n_data)  # Perbaikan di sini\n",
    "gaji = np.random.choice(['1-3JT', '4-6JT', '7-10JT'], size=n_data)  # Perbaikan di sini\n",
    "anak = np.random.randint(0, 7, size=n_data)\n",
    "\n",
    "df = pd.DataFrame({\n",
    "    'Usia' : usia,\n",
    "    'Gender' : gender,\n",
    "    'Gaji' : gaji,\n",
    "    'Jumlah Anak' : anak\n",
    "})\n",
    "\n",
    "df.to_csv('data_calon_nasabah.csv')\n",
    "print(df.head())\n",
    "\n",
    "print(f\"Usia Minimum: {df.Usia.min()}\")\n",
    "print(f\"Usia Minimum: {df.Usia.max()}\")\n",
    "gaji_terbanyak = df['Gaji'].value_counts().idxmax()\n",
    "print(f\"Gaji Rata Rata:  {gaji_terbanyak}\")\n",
    "jmlL = df[df.Gender == 'L']\n",
    "print(f\"Jumlah Calon Nasabah Laki Laki: {jmlL.size/4}\")\n",
    "jmlP = df[df.Gender == 'P']\n",
    "print(f\"Jumlah Calon Nasabah Perempuan: {jmlP.size/4}\")"
   ]
  }
 ],
 "metadata": {
  "kernelspec": {
   "display_name": "Python [conda env:base] *",
   "language": "python",
   "name": "conda-base-py"
  },
  "language_info": {
   "codemirror_mode": {
    "name": "ipython",
    "version": 3
   },
   "file_extension": ".py",
   "mimetype": "text/x-python",
   "name": "python",
   "nbconvert_exporter": "python",
   "pygments_lexer": "ipython3",
   "version": "3.12.7"
  }
 },
 "nbformat": 4,
 "nbformat_minor": 5
}
