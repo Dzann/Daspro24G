{
 "cells": [
  {
   "cell_type": "code",
   "execution_count": null,
   "id": "0cfc77d5-1395-4b8f-8ca8-72d3fb124a3f",
   "metadata": {},
   "outputs": [],
   "source": [
    "umur = int(input(\"Masukan Umur Anda :\"))\n",
    "\n"
   ]
  }
 ],
 "metadata": {
  "kernelspec": {
   "display_name": "Python [conda env:base] *",
   "language": "python",
   "name": "conda-base-py"
  },
  "language_info": {
   "codemirror_mode": {
    "name": "ipython",
    "version": 3
   },
   "file_extension": ".py",
   "mimetype": "text/x-python",
   "name": "python",
   "nbconvert_exporter": "python",
   "pygments_lexer": "ipython3",
   "version": "3.12.7"
  }
 },
 "nbformat": 4,
 "nbformat_minor": 5
}
