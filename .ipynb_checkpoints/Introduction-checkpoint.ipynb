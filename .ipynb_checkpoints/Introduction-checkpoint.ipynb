{
 "cells": [
  {
   "attachments": {},
   "cell_type": "markdown",
   "id": "3108486d-96f9-427e-9678-2158f135c298",
   "metadata": {},
   "source": [
    "<center>\n",
    "    <img src=\"https://149860134.v2.pressablecdn.com/wp-content/uploads/pythoned.png\" width = \"200px\">\n",
    "</center>\n",
    "<br>\n",
    "<b>Cells</b> di jupyter ada 2\n",
    "<ol>\n",
    "    <li>MarkDown (M)</li>\n",
    "    <li>Code (Y)</li>\n",
    "</ol>"
   ]
  },
  {
   "cell_type": "markdown",
   "id": "50df9370-29cf-450a-a6dc-45e124ce7e44",
   "metadata": {},
   "source": [
    "Cara menambahkan cell ada 2 :\n",
    "<ul>\n",
    "    <li>A (Above) Di atas cell</li>\n",
    "    <li>B (Below) Di atas cell</li>\n",
    "</ul>"
   ]
  }
 ],
 "metadata": {
  "kernelspec": {
   "display_name": "Python [conda env:base] *",
   "language": "python",
   "name": "conda-base-py"
  },
  "language_info": {
   "codemirror_mode": {
    "name": "ipython",
    "version": 3
   },
   "file_extension": ".py",
   "mimetype": "text/x-python",
   "name": "python",
   "nbconvert_exporter": "python",
   "pygments_lexer": "ipython3",
   "version": "3.12.7"
  }
 },
 "nbformat": 4,
 "nbformat_minor": 5
}
