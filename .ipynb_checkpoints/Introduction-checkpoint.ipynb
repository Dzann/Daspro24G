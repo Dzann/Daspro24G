{
 "cells": [
  {
   "attachments": {},
   "cell_type": "markdown",
   "id": "3108486d-96f9-427e-9678-2158f135c298",
   "metadata": {},
   "source": [
    "<center>\n",
    "    <img src=\"https://149860134.v2.pressablecdn.com/wp-content/uploads/pythoned.png\" width = \"200px\">\n",
    "</center>\n",
    "<br>\n",
    "<b>Cells</b> di jupyter ada 2\n",
    "<ol>\n",
    "    <li>MarkDown (M)</li>\n",
    "    <li>Code (Y)</li>\n",
    "</ol>"
   ]
  },
  {
   "cell_type": "markdown",
   "id": "65f42ae4-34d1-4bc7-b387-e341087b75b4",
   "metadata": {},
   "source": [
    "Cara menambahkan cell ada 2 :\n",
    "<ul>\n",
    "    <li>A (Above) Di atas cell</li>\n",
    "    <li>B (Below) Di atas cell</li>\n",
    "</ul>\n"
   ]
  },
  {
   "cell_type": "markdown",
   "id": "aaf2fada-33a6-4251-9400-2874a5a0b5c4",
   "metadata": {},
   "source": [
    "<table>\n",
    "    <tr>\n",
    "        <td>NIM</td>\n",
    "        <td>:</td>\n",
    "        <td>202040040132</td>\n",
    "    </tr>\n",
    "    <tr>\n",
    "        <td>Nama</td>\n",
    "        <td>:</td>\n",
    "        <td>Muhamad Gidzane Mustofa</td>\n",
    "    </tr>\n",
    "    <tr>\n",
    "        <td>Kelas</td>\n",
    "        <td>:</td>\n",
    "        <td>TI24G</td>\n",
    "    </tr>\n",
    "</table>"
   ]
  },
  {
   "cell_type": "code",
   "execution_count": 60,
   "id": "6d3d89c1-0fc5-441c-b734-d35aba417afb",
   "metadata": {
    "scrolled": true
   },
   "outputs": [
    {
     "name": "stdout",
     "output_type": "stream",
     "text": [
      "Python is very easy\n",
      "Sekarang hari jum'at\n",
      "Deklarasi Variable \"A\"\n",
      "5\n"
     ]
    },
    {
     "data": {
      "text/plain": [
       "'5555555555'"
      ]
     },
     "execution_count": 60,
     "metadata": {},
     "output_type": "execute_result"
    }
   ],
   "source": [
    "print(\"Python is very easy\")\n",
    "print(\"Sekarang hari jum'at\")\n",
    "print('Deklarasi Variable \"A\"')\n",
    "number = \"5\"\n",
    "print(number)\n",
    "number * 10"
   ]
  }
 ],
 "metadata": {
  "kernelspec": {
   "display_name": "Python [conda env:base] *",
   "language": "python",
   "name": "conda-base-py"
  },
  "language_info": {
   "codemirror_mode": {
    "name": "ipython",
    "version": 3
   },
   "file_extension": ".py",
   "mimetype": "text/x-python",
   "name": "python",
   "nbconvert_exporter": "python",
   "pygments_lexer": "ipython3",
   "version": "3.12.7"
  }
 },
 "nbformat": 4,
 "nbformat_minor": 5
}
