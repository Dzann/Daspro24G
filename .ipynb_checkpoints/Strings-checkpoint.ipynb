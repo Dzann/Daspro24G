{
 "cells": [
  {
   "cell_type": "markdown",
   "id": "bea81f43-cb0d-427a-bcbc-c415e9d27751",
   "metadata": {
    "jp-MarkdownHeadingCollapsed": true
   },
   "source": [
    "<h1>Latihan</h1>"
   ]
  },
  {
   "cell_type": "code",
   "execution_count": 57,
   "id": "e788239f-6e3a-4890-8e75-2950da8fcf4f",
   "metadata": {},
   "outputs": [
    {
     "name": "stdin",
     "output_type": "stream",
     "text": [
      "Masukan Email anda : gidzan\n"
     ]
    },
    {
     "name": "stdout",
     "output_type": "stream",
     "text": [
      "Email Salah\n"
     ]
    }
   ],
   "source": [
    "email = input(\"Masukan Email anda :\")\n",
    "et = email.find('@')\n",
    "dot = email.find('.')\n",
    "validate = \"Email Anda benar\" if et>=0 and et < dot and dot >=0 else \"Email Salah\"\n",
    "\n",
    "print(validate)"
   ]
  },
  {
   "cell_type": "code",
   "execution_count": 109,
   "id": "5e26a235-d06a-4e9d-b639-cc4297f6d775",
   "metadata": {},
   "outputs": [
    {
     "name": "stdout",
     "output_type": "stream",
     "text": [
      "Berapa 1 + 10\n"
     ]
    },
    {
     "name": "stdin",
     "output_type": "stream",
     "text": [
      "Masukan Jawaban : 11\n"
     ]
    },
    {
     "name": "stdout",
     "output_type": "stream",
     "text": [
      "Benar\n"
     ]
    }
   ],
   "source": [
    "#nomor 1\n",
    "import random as r\n",
    "\n",
    "val1 = r.randint(0,10) \n",
    "val2 = r.randint(0,10) \n",
    "hasil = val1 + val2\n",
    "print(f\"Berapa {val1} + {val2}\")\n",
    "jawaban = int(input(\"Masukan Jawaban :\"))\n",
    "print (\"Benar\") if jawaban == hasil else \"Salah\""
   ]
  },
  {
   "cell_type": "code",
   "execution_count": 112,
   "id": "7552f033-836a-4899-8b0b-3991a859074a",
   "metadata": {},
   "outputs": [
    {
     "name": "stdout",
     "output_type": "stream",
     "text": [
      "Apa Bahasa Inggrisnya tikus :\n"
     ]
    },
    {
     "name": "stdin",
     "output_type": "stream",
     "text": [
      "Masukan Jawaban : rat\n"
     ]
    },
    {
     "name": "stdout",
     "output_type": "stream",
     "text": [
      "benar\n"
     ]
    }
   ],
   "source": [
    "#nomor 2\n",
    "import random as r\n",
    "\n",
    "kamus = [[\"tikus\", \"rat\"], [\"harimau\", \"tiger\"], [\"serigala\", \"wolf\"]]\n",
    "cKamus = r.choice(kamus)\n",
    "\n",
    "print(f\"Apa Bahasa Inggrisnya {cKamus[0]} :\")\n",
    "jawab = input(\"Masukan Jawaban :\")\n",
    "valid = \"benar\" if jawab == cKamus[1] else \"salah\"\n",
    "\n",
    "print (valid)"
   ]
  },
  {
   "cell_type": "code",
   "execution_count": 19,
   "id": "93cda113-6819-4754-8665-d77177cb5ff7",
   "metadata": {},
   "outputs": [
    {
     "name": "stdout",
     "output_type": "stream",
     "text": [
      "Inggris ke indo[1] atau Indonesia ke inggris[2]\n"
     ]
    },
    {
     "name": "stdin",
     "output_type": "stream",
     "text": [
      "Pilih 1 atau 2 : 2\n"
     ]
    },
    {
     "name": "stdout",
     "output_type": "stream",
     "text": [
      "Apa Bahasa Inggrisnya tikus :\n"
     ]
    },
    {
     "name": "stdin",
     "output_type": "stream",
     "text": [
      "Masukan Jawaban : rats\n"
     ]
    },
    {
     "name": "stdout",
     "output_type": "stream",
     "text": [
      "salah\n"
     ]
    }
   ],
   "source": [
    "#nomor 3\n",
    "import random as r\n",
    "print(\"Inggris ke indo[1] atau Indonesia ke inggris[2]\")\n",
    "pilih = int(input(\"Pilih 1 atau 2 :\"))\n",
    "kamus = [[\"tikus\", \"rat\"], [\"harimau\", \"tiger\"], [\"serigala\", \"wolf\"]]\n",
    "cKamus = r.choice(kamus)\n",
    "if pilih == 1 :\n",
    "    print(f\"Apa Bahasa Indonesianya {cKamus[1]} :\")\n",
    "    jawab = input(\"Masukan Jawaban :\")\n",
    "    valid = \"benar\" if jawab == cKamus[0] else \"salah\"\n",
    "else :\n",
    "    print(f\"Apa Bahasa Inggrisnya {cKamus[0]} :\")\n",
    "    jawaban = input(\"Masukan Jawaban :\")\n",
    "    valid = \"benar\" if jawaban == cKamus[1] else \"salah\"\n",
    "print (valid)"
   ]
  },
  {
   "cell_type": "markdown",
   "id": "adf40f7f-1054-4a95-a565-e945509f05b7",
   "metadata": {
    "jp-MarkdownHeadingCollapsed": true
   },
   "source": [
    "<h1>Fungsi String</h1>"
   ]
  },
  {
   "cell_type": "code",
   "execution_count": 81,
   "id": "9d894289-6a65-4d69-8b44-b026a3b24d1c",
   "metadata": {},
   "outputs": [
    {
     "name": "stdout",
     "output_type": "stream",
     "text": [
      "Mar\n",
      "['Tue', 2]\n"
     ]
    }
   ],
   "source": [
    "#List\n",
    "import random as r\n",
    "month = [\"Jan\", \"Feb\", \"Mar\", \"Apr\", \"May\", \"June\", \"Jul\", \"Aug\", \"Sept\", \"Oct\", \"Nov\", \"Des\"]\n",
    "cMonth = r.choice(month)\n",
    "print(cMonth)\n",
    "\n",
    "day = [[\"Mon\",1], [\"Tue\",2], [\"Wed\",3], [\"Thu\",4], [\"Fri\",5], [\"Sat\",6], [\"Sun\",7]]\n",
    "cDay = r.choice(day)\n",
    "print(cDay)"
   ]
  },
  {
   "cell_type": "code",
   "execution_count": 32,
   "id": "d259fa0f-f20d-4d92-b77d-d4ae4ac74194",
   "metadata": {},
   "outputs": [
    {
     "name": "stdout",
     "output_type": "stream",
     "text": [
      "-1\n"
     ]
    }
   ],
   "source": [
    "### Find -> akan menghasilkan index dari sebuah character (jika di temukan)\n",
    "#Find -> jika tidak ditemukan akan menghasilkan nilai -1\n",
    "\n",
    "platMotor = \"F2024AG\"\n",
    "print(platMotor.find(\"E\"))\n"
   ]
  },
  {
   "cell_type": "code",
   "execution_count": 71,
   "id": "12330b19-de13-4b98-88e2-b731b31bec6e",
   "metadata": {},
   "outputs": [
    {
     "name": "stdin",
     "output_type": "stream",
     "text": [
      "masukan nilai : 123\n"
     ]
    },
    {
     "name": "stdout",
     "output_type": "stream",
     "text": [
      "19\n"
     ]
    }
   ],
   "source": [
    "import random as r\n",
    "nilai = int(input(\"masukan nilai :\"))\n",
    "nilai = r.randint(0,100)\n",
    "print(nilai)\n"
   ]
  },
  {
   "cell_type": "code",
   "execution_count": 21,
   "id": "26efc205-80c7-4627-a199-66ba384a7460",
   "metadata": {},
   "outputs": [
    {
     "name": "stdout",
     "output_type": "stream",
     "text": [
      "Belajar\n",
      "Python\n",
      "itu\n",
      "mudah\n"
     ]
    }
   ],
   "source": [
    "#split -> untuk memisahkan string\n",
    "\n",
    "kalimat = \"Belajar Python itu mudah\"\n",
    "kata = kalimat.split(' ')\n",
    "\n",
    "print(kata[0])\n",
    "print(kata[1])\n",
    "print(kata[2])\n",
    "print(kata[3])"
   ]
  },
  {
   "cell_type": "markdown",
   "id": "e76561ac-c006-4d67-8171-cfe9df8482a6",
   "metadata": {
    "jp-MarkdownHeadingCollapsed": true
   },
   "source": [
    "<h1>Slicing</h1>"
   ]
  },
  {
   "cell_type": "code",
   "execution_count": 9,
   "id": "2cf7e1e4-833a-4bee-884f-7093034621a1",
   "metadata": {},
   "outputs": [
    {
     "name": "stdin",
     "output_type": "stream",
     "text": [
      "Isikan NIM Anda : 20240040132\n"
     ]
    },
    {
     "name": "stdout",
     "output_type": "stream",
     "text": [
      "Tahun Masuk : 2024\n",
      "Kode Program Studi : 004\n",
      "Program Studi : Teknik Informatika\n",
      "No Urut : 0132\n",
      "Angka NIM paling akhir : 2\n",
      "Angka NIM diReverse : 23104004202\n"
     ]
    }
   ],
   "source": [
    "NIM = input(\"Isikan NIM Anda :\")\n",
    "\n",
    "tahun = NIM[0:4]\n",
    "prodi = NIM[4:7]\n",
    "kodeProdi = \"Teknik Informatika\" if prodi == \"004\" else \"Tidak Keren\"\n",
    "urut = NIM[7:11]\n",
    "\n",
    "#FString\n",
    "\n",
    "print(f\"Tahun Masuk : {tahun}\")\n",
    "print(f\"Kode Program Studi : {prodi}\")\n",
    "print(f\"Program Studi : {kodeProdi}\")\n",
    "print(f\"No Urut : {urut}\")\n",
    "\n",
    "print(f\"Angka NIM paling akhir : {NIM[-1]}\")\n",
    "print(f\"Angka NIM diReverse : {NIM[::-1]}\")"
   ]
  },
  {
   "cell_type": "markdown",
   "id": "d4a00b9d-27ee-4561-ac2d-4952b9bcb212",
   "metadata": {
    "jp-MarkdownHeadingCollapsed": true
   },
   "source": [
    "<h1>String Index</h1>"
   ]
  },
  {
   "cell_type": "code",
   "execution_count": 55,
   "id": "5152da1b-dbee-464f-affb-022a559b3da5",
   "metadata": {},
   "outputs": [
    {
     "name": "stdin",
     "output_type": "stream",
     "text": [
      "isikan nama awal : 1\n",
      "isikan nama tengah : 1\n",
      "isikan nama akhir : 1\n"
     ]
    },
    {
     "name": "stdout",
     "output_type": "stream",
     "text": [
      "Nama Lengkap = 1 1 1\n",
      "Nama Lengkap: rawr anby demara\n"
     ]
    }
   ],
   "source": [
    "fName = input(\"isikan nama awal :\")\n",
    "mName = input(\"isikan nama tengah :\")\n",
    "lName = input(\"isikan nama akhir :\")\n",
    "\n",
    "print(\"Nama Lengkap = {2} {0} {1}\".format(mName, fName, lName))\n",
    "\n",
    "#key\n",
    "print(\"Nama Lengkap: {depan} {tengah} {belakang}\".format(belakang = 'demara', depan = 'rawr', tengah = 'anby') )"
   ]
  },
  {
   "cell_type": "markdown",
   "id": "df619bef-f61e-45ba-9a04-f62b38f0f3e2",
   "metadata": {
    "jp-MarkdownHeadingCollapsed": true
   },
   "source": [
    "<h1>String Input</h1>"
   ]
  },
  {
   "cell_type": "code",
   "execution_count": 24,
   "id": "728da2d1-c785-4dd0-a2cd-2adb97ba8628",
   "metadata": {},
   "outputs": [
    {
     "name": "stdin",
     "output_type": "stream",
     "text": [
      "Isi nama anda : 123\n"
     ]
    },
    {
     "name": "stdout",
     "output_type": "stream",
     "text": [
      "Selamat Datang 123\n",
      "Selamat Datang Andi Selamat Datang Rudi Selamat Datang Dina\n",
      "Anggur&Apel&Semangka\n"
     ]
    }
   ],
   "source": [
    "name = input(\"Isi nama anda :\")\n",
    "print(\"Selamat Datang\", name)\n",
    "\n",
    "print(\"Selamat Datang Andi\", end =' ')\n",
    "print(\"Selamat Datang Rudi\", end =' ')\n",
    "print(\"Selamat Datang Dina\")\n",
    "\n",
    "print(\"Anggur\", \"Apel\", \"Semangka\", sep='&')"
   ]
  },
  {
   "cell_type": "markdown",
   "id": "ddb6cf21-539e-4e3a-8b17-c70d46c59bef",
   "metadata": {
    "jp-MarkdownHeadingCollapsed": true
   },
   "source": [
    "<h1>String Format</h1>"
   ]
  },
  {
   "cell_type": "code",
   "execution_count": 34,
   "id": "8b7f5fc5-07fb-49bd-8608-47764774145e",
   "metadata": {},
   "outputs": [
    {
     "name": "stdin",
     "output_type": "stream",
     "text": [
      "Isikan Bilangan 1 : 1\n",
      "Isikan Bilangan 2 : 2\n"
     ]
    },
    {
     "name": "stdout",
     "output_type": "stream",
     "text": [
      "Hasil Penjumlahan 1 + 2 = 3\n"
     ]
    }
   ],
   "source": [
    "val1 = int(input(\"Isikan Bilangan 1 :\"))\n",
    "val2 = int(input(\"Isikan Bilangan 2 :\"))\n",
    "\n",
    "result = val1 + val2\n",
    "\n",
    "print(\"Hasil Penjumlahan {} + {} = {}\".format(val1, val2, result))"
   ]
  }
 ],
 "metadata": {
  "kernelspec": {
   "display_name": "Python [conda env:base] *",
   "language": "python",
   "name": "conda-base-py"
  },
  "language_info": {
   "codemirror_mode": {
    "name": "ipython",
    "version": 3
   },
   "file_extension": ".py",
   "mimetype": "text/x-python",
   "name": "python",
   "nbconvert_exporter": "python",
   "pygments_lexer": "ipython3",
   "version": "3.12.7"
  }
 },
 "nbformat": 4,
 "nbformat_minor": 5
}
