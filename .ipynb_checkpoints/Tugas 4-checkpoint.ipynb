{
 "cells": [
  {
   "cell_type": "markdown",
   "id": "c02c1ff4-0f10-40e1-b482-613bab074455",
   "metadata": {},
   "source": [
    "<h1>Operator Aritmatika</h1>"
   ]
  },
  {
   "cell_type": "code",
   "execution_count": 80,
   "id": "206aee5f-37f9-4d56-9f99-6034723f34ed",
   "metadata": {},
   "outputs": [
    {
     "name": "stdout",
     "output_type": "stream",
     "text": [
      "Total apel yang dimiliki Budi sekarang: 12\n",
      "Setiap teman mendapat 3 apel.\n",
      "Total apel yang dimiliki Budi sekarang: 20\n",
      "Setiap teman mendapat 5 apel.\n"
     ]
    }
   ],
   "source": [
    "totalApel = 12\n",
    "jumlahTeman = 4\n",
    "\n",
    "print(f\"Total apel yang dimiliki Budi sekarang: {totalApel}\")\n",
    "apel_per_teman = totalApel // jumlahTeman\n",
    "print(f\"Setiap teman mendapat {apel_per_teman} apel.\")\n",
    "tambahanApel = 8\n",
    "totalApel += tambahanApel \n",
    "\n",
    "print(f\"Total apel yang dimiliki Budi sekarang: {totalApel}\")\n",
    "apel_per_teman = totalApel // jumlahTeman\n",
    "print(f\"Setiap teman mendapat {apel_per_teman} apel.\")"
   ]
  },
  {
   "cell_type": "markdown",
   "id": "2b524a01-3b61-4c3c-8157-ba1958b56c29",
   "metadata": {},
   "source": [
    "<h1>Operator Perbandingan</h1>"
   ]
  },
  {
   "cell_type": "code",
   "execution_count": 63,
   "id": "04ea86fc-b8e5-4e71-ae8f-fc9cbf5b373c",
   "metadata": {},
   "outputs": [
    {
     "name": "stdout",
     "output_type": "stream",
     "text": [
      "Andi lebih tinggi dari siti\n"
     ]
    }
   ],
   "source": [
    "Siti = 160\n",
    "Andi = 165\n",
    "\n",
    "if Andi > Siti:\n",
    "    print(\"Andi lebih tinggi dari siti\")\n",
    "else:\n",
    "    print(\"Siti lebih tinggi dari andi\")"
   ]
  },
  {
   "cell_type": "markdown",
   "id": "78ea33a6-b2c6-4a76-a71b-fd5fc74d51e6",
   "metadata": {},
   "source": [
    "<h1>Operator Logika</h1>"
   ]
  },
  {
   "cell_type": "code",
   "execution_count": 59,
   "id": "5bf6b473-7b72-47da-9ef1-5c21edf5bd3f",
   "metadata": {},
   "outputs": [
    {
     "name": "stdout",
     "output_type": "stream",
     "text": [
      "budi tidak bisa bermain\n"
     ]
    }
   ],
   "source": [
    "premis1 = \"cuaca cerah\"\n",
    "premis2 = \"pr belum\"\n",
    "\n",
    "if (premis1  == \"cuaca cerah\" and premis2 == \"pr selesai\"):\n",
    "    print(\"budi bisa bermain\")\n",
    "else:\n",
    "    print(\"budi tidak bisa bermain\")"
   ]
  },
  {
   "cell_type": "markdown",
   "id": "2b13930c-9a35-46f8-9768-0870f168dc99",
   "metadata": {},
   "source": [
    "<h1>Bitwise</h1>"
   ]
  },
  {
   "cell_type": "code",
   "execution_count": 48,
   "id": "348ff434-edb3-4fcb-96d8-7ce06b564df8",
   "metadata": {},
   "outputs": [
    {
     "name": "stdin",
     "output_type": "stream",
     "text": [
      "Insert bilangan 1:  6\n",
      "Insert bilangan 2:  3\n"
     ]
    },
    {
     "name": "stdout",
     "output_type": "stream",
     "text": [
      "\n",
      "0b110\n",
      "0b11\n",
      "==========\n",
      "0b10 = 2\n",
      "\n",
      "0b110\n",
      "0b11\n",
      "==========\n",
      "0b111 = 7\n",
      "\n",
      "0b110\n",
      "0b11\n",
      "==========\n",
      "0b101 = 5\n",
      "\n"
     ]
    }
   ],
   "source": [
    "num1 = int(input(\"Insert bilangan 1: \"))\n",
    "num2 = int(input(\"Insert bilangan 2: \"))\n",
    "\n",
    "print()\n",
    "bAnd = num1&num2\n",
    "print(bin(num1))\n",
    "print(bin(num2))\n",
    "print(\"==========\")\n",
    "print(bin(bAnd),\"=\",bAnd)\n",
    "print()\n",
    "bOr = num1|num2\n",
    "print(bin(num1))\n",
    "print(bin(num2))\n",
    "print(\"==========\")\n",
    "print(bin(bOr),\"=\",bOr)\n",
    "print()\n",
    "bXor = num1^num2\n",
    "print(bin(num1))\n",
    "print(bin(num2))\n",
    "print(\"==========\")\n",
    "print(bin(bXor),\"=\",bXor)\n",
    "print()"
   ]
  },
  {
   "cell_type": "markdown",
   "id": "e40c28a2-e30a-4dd4-b694-dcbcc7069861",
   "metadata": {},
   "source": [
    "<h1>Penugasan</h1>"
   ]
  },
  {
   "cell_type": "code",
   "execution_count": 45,
   "id": "bd7c4a32-2c76-4edd-853d-16da65856de0",
   "metadata": {},
   "outputs": [
    {
     "name": "stdin",
     "output_type": "stream",
     "text": [
      "Masukan nominal pulsa anda : 200000\n"
     ]
    },
    {
     "name": "stdout",
     "output_type": "stream",
     "text": [
      "Saldo pulsa anda adalah:  200000\n",
      "Setelah diisi ulang : 220000\n",
      "Setelah dibelikan kouta (Rp.30.000), sisa pulsa anda adalah:  190000\n"
     ]
    }
   ],
   "source": [
    "pulsa = int(input(\"Masukan nominal pulsa anda :\"))\n",
    "print (\"Saldo pulsa anda adalah: \", pulsa)\n",
    "pulsa += 20000\n",
    "print (\"Setelah diisi ulang :\", pulsa)\n",
    "pulsa -= 30000\n",
    "print (\"Setelah dibelikan kouta (Rp.30.000), sisa pulsa anda adalah: \", pulsa)"
   ]
  },
  {
   "cell_type": "markdown",
   "id": "bbffa030-928b-4cf2-b69e-7ecbf7ed6f4b",
   "metadata": {},
   "source": [
    "<h1>Keanggotaan</h1>"
   ]
  },
  {
   "cell_type": "code",
   "execution_count": 34,
   "id": "81794f2a-2035-4974-bafc-15098a698c5b",
   "metadata": {},
   "outputs": [
    {
     "name": "stdin",
     "output_type": "stream",
     "text": [
      "cari peserta : Gidzan\n"
     ]
    },
    {
     "name": "stdout",
     "output_type": "stream",
     "text": [
      "Gidzan terdaftar sebagai peserta.\n"
     ]
    }
   ],
   "source": [
    "listPeserta = [\"Gidzan\",\"Naufal\",\"Dwi\",\"Ibnu\"]\n",
    "findPeserta = input(\"cari peserta :\")\n",
    "peserta = \"terdaftar sebagai peserta.\" if findPeserta in listPeserta else \"tidak terdaftar sebagai peserta.\"\n",
    "print (findPeserta, peserta)"
   ]
  },
  {
   "cell_type": "code",
   "execution_count": 36,
   "id": "93d6a527-6068-4eb7-85ee-4d66cc786060",
   "metadata": {},
   "outputs": [
    {
     "name": "stdout",
     "output_type": "stream",
     "text": [
      "Saya suka belajar Python\n",
      "adakah kata Python pada Saya suka belajar Python ?\n",
      "True\n"
     ]
    }
   ],
   "source": [
    "kalimat = \"Saya suka belajar Python\"\n",
    "cek = \"Python\"\n",
    "print (kalimat)\n",
    "print(\"adakah kata\", cek, \"pada\", kalimat,\"?\")\n",
    "print (cek in kalimat)"
   ]
  },
  {
   "cell_type": "markdown",
   "id": "73eb28d9-3621-4e76-9cc6-ebd7f5aa75d9",
   "metadata": {},
   "source": [
    "<h1>Operator Identitas</h1>"
   ]
  },
  {
   "cell_type": "code",
   "execution_count": 19,
   "id": "65b27bb3-5214-4eec-a0b0-28c31c163bd5",
   "metadata": {},
   "outputs": [
    {
     "name": "stdout",
     "output_type": "stream",
     "text": [
      "apakah nilai nya sama True\n"
     ]
    }
   ],
   "source": [
    "x = 5\n",
    "y = 5\n",
    "\n",
    "print(\"apakah nilai nya sama\", x is y)"
   ]
  },
  {
   "cell_type": "code",
   "execution_count": 21,
   "id": "9028f87f-2b37-4b10-b657-00b9221ced69",
   "metadata": {},
   "outputs": [
    {
     "name": "stdout",
     "output_type": "stream",
     "text": [
      "[1, 2, 3]\n",
      "[1, 2, 3]\n",
      "apakah list1 dan list2 sama:  False\n",
      "apakah list1 dan list2 memiliki nilai yang sama: True\n"
     ]
    }
   ],
   "source": [
    "list1 = [1, 2, 3]\n",
    "list2 = [1, 2, 3]\n",
    "\n",
    "print (list1)\n",
    "print (list2)\n",
    "print(\"apakah list1 dan list2 sama: \",list1 is list2)\n",
    "print(\"apakah list1 dan list2 memiliki nilai yang sama:\",list1 == list2)"
   ]
  },
  {
   "cell_type": "markdown",
   "id": "155473b5-13f7-43fb-a917-e6531bdbfa42",
   "metadata": {},
   "source": [
    "<h1>Operator Ternary</h1>"
   ]
  },
  {
   "cell_type": "code",
   "execution_count": 10,
   "id": "f8ae6a48-125c-4f32-89b7-3ef1ecf23a2c",
   "metadata": {},
   "outputs": [
    {
     "name": "stdin",
     "output_type": "stream",
     "text": [
      "Masukan angka: 10\n"
     ]
    },
    {
     "name": "stdout",
     "output_type": "stream",
     "text": [
      "10 Tidak lebih besar dari 100\n"
     ]
    }
   ],
   "source": [
    "angka = int(input(\"Masukan angka:\"))\n",
    "hasil = \"Lebih besar dari 100\" if angka > 100 else \"Tidak lebih besar dari 100\"\n",
    "print(angka, hasil)"
   ]
  },
  {
   "cell_type": "code",
   "execution_count": 14,
   "id": "7ae2bb29-5a13-4908-865c-5c33ed32037a",
   "metadata": {},
   "outputs": [
    {
     "name": "stdin",
     "output_type": "stream",
     "text": [
      "Masukan Nilai 70\n"
     ]
    },
    {
     "name": "stdout",
     "output_type": "stream",
     "text": [
      "anda dinyatakan Tidak Lulus\n"
     ]
    }
   ],
   "source": [
    "nilai = int(input(\"Masukan Nilai\"))\n",
    "status = \"Lulus\" if nilai > 70 else \"Tidak Lulus\"\n",
    "print(f\"anda dinyatakan {status}\")"
   ]
  }
 ],
 "metadata": {
  "kernelspec": {
   "display_name": "Python [conda env:base] *",
   "language": "python",
   "name": "conda-base-py"
  },
  "language_info": {
   "codemirror_mode": {
    "name": "ipython",
    "version": 3
   },
   "file_extension": ".py",
   "mimetype": "text/x-python",
   "name": "python",
   "nbconvert_exporter": "python",
   "pygments_lexer": "ipython3",
   "version": "3.12.7"
  }
 },
 "nbformat": 4,
 "nbformat_minor": 5
}
