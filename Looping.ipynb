{
 "cells": [
  {
   "cell_type": "markdown",
   "id": "b71e8f28-5aa8-4bbf-aeab-8adc3a69074b",
   "metadata": {},
   "source": [
    "<h1>Perulangan / Looping</h1>"
   ]
  },
  {
   "cell_type": "code",
   "execution_count": 17,
   "id": "37d38050-a83e-41bf-bbf1-33c9cd9afbb6",
   "metadata": {},
   "outputs": [
    {
     "name": "stdout",
     "output_type": "stream",
     "text": [
      "1  -2  3  -4  5  -6  7  -8  9  -10  "
     ]
    }
   ],
   "source": [
    "# 1 -2 3 -4 5 -6\n",
    "sign = 1\n",
    "for i in range (1, 11):\n",
    "    result = sign * i\n",
    "    print(result, \" \", end = '') \n",
    "    sign *= -1"
   ]
  },
  {
   "cell_type": "code",
   "execution_count": 5,
   "id": "2cd639a0-1058-4290-af8a-9ff9b6c3e186",
   "metadata": {},
   "outputs": [
    {
     "name": "stdin",
     "output_type": "stream",
     "text": [
      "Isikan bilangan 3\n"
     ]
    },
    {
     "name": "stdout",
     "output_type": "stream",
     "text": [
      "3 adalah bilangan prima\n"
     ]
    }
   ],
   "source": [
    "# cek prima atau bukan\n",
    "number = int(input(\"Isikan bilangan\"))\n",
    "faktor = 0\n",
    "\n",
    "for i in range(1,number+1):\n",
    "    if number % i == 0:\n",
    "        faktor += 1\n",
    "\n",
    "if faktor == 2:\n",
    "    print(f\"{number} adalah bilangan prima\")\n",
    "else :\n",
    "    print(f\"{number} bukan bilangan prima\")"
   ]
  },
  {
   "cell_type": "code",
   "execution_count": 185,
   "id": "3cdbed9a-e970-4d47-ab6d-a1a53fa49846",
   "metadata": {
    "jupyter": {
     "source_hidden": true
    }
   },
   "outputs": [
    {
     "name": "stdin",
     "output_type": "stream",
     "text": [
      "isikan bilangan 5\n"
     ]
    },
    {
     "name": "stdout",
     "output_type": "stream",
     "text": [
      "5! = 120\n"
     ]
    }
   ],
   "source": [
    "#factorial\n",
    "total = 1\n",
    "number = int(input(\"isikan bilangan\"))\n",
    "for i in range(1, number+1):\n",
    "    total *= i\n",
    "print(f\"{number}! = {total}\")\n"
   ]
  },
  {
   "cell_type": "code",
   "execution_count": 163,
   "id": "bca6012e-a5eb-4e43-bd4f-d61db02e217c",
   "metadata": {
    "collapsed": true,
    "jupyter": {
     "outputs_hidden": true,
     "source_hidden": true
    },
    "scrolled": true
   },
   "outputs": [
    {
     "name": "stdout",
     "output_type": "stream",
     "text": [
      "0 1 2 3 4 5 6 7 8 9 \n",
      "5 6 7 8 9 10 11 12 13 14 \n",
      "10 20 30 40 50 60 70 80 90 100 \n",
      "10 20 30 40 50 60 70 80 90 \n",
      "10 9 8 7 6 5 4 3 2 1 "
     ]
    }
   ],
   "source": [
    "for i in range(10):\n",
    "    print(f\"{i}\", end =' ')\n",
    "print()\n",
    "for i in range(5, 15):\n",
    "    print(f\"{i}\", end =' ')\n",
    "print()\n",
    "for i in range(1, 11):\n",
    "    print(f\"{i * 10}\", end =' ')\n",
    "print()\n",
    "for i in range(10, 100, 10):\n",
    "    print(f\"{i}\", end =' ')\n",
    "print()\n",
    "for i in range(10, 0, -1):\n",
    "    print(f\"{i}\", end =' ')"
   ]
  },
  {
   "cell_type": "code",
   "execution_count": 139,
   "id": "744e49ca-d871-47e8-8e2b-6ed617715507",
   "metadata": {
    "collapsed": true,
    "jupyter": {
     "outputs_hidden": true,
     "source_hidden": true
    }
   },
   "outputs": [
    {
     "name": "stdout",
     "output_type": "stream",
     "text": [
      "0 : L\n",
      "1 : \n",
      "2 : P\n",
      "3 : L\n",
      "4 : P\n",
      "5 : L\n",
      "6 : \n",
      "7 : P\n",
      "Total couples: 3\n"
     ]
    }
   ],
   "source": [
    "couples = 0\n",
    "chairs = [\"L\", \"\", \"P\", \"L\", \"P\", \"L\", \"\", \"P\", \"P\"]\n",
    "for index, chair in enumerate(chairs[:-1]):\n",
    "    print(f\"{index} : {chair}\")\n",
    "    if chair and chairs[index + 1] and chair != chairs[index + 1]:\n",
    "        couples += 1\n",
    "print(f\"Total couples: {couples}\")"
   ]
  },
  {
   "cell_type": "code",
   "execution_count": 83,
   "id": "e3de6ec4-3840-455d-abea-8374a9dbb1ef",
   "metadata": {
    "collapsed": true,
    "jupyter": {
     "outputs_hidden": true,
     "source_hidden": true
    },
    "scrolled": true
   },
   "outputs": [
    {
     "name": "stdout",
     "output_type": "stream",
     "text": [
      "Total Laki Laki adalah 4\n",
      "Total Perempuan adalah 2\n"
     ]
    }
   ],
   "source": [
    "# Menghitung Berapa Jumlah Laki-laki / Perempuan di bioskop\n",
    "man = 0\n",
    "woman = 0\n",
    "couple = 0\n",
    "chairs = [\"L\", \"P\", \"L\", \"L\", \"P\", \"L\"]\n",
    "for chair in chairs:\n",
    "    if chair == \"L\":\n",
    "        man += 1\n",
    "    elif chairs == \"P\":\n",
    "        woman += 1\n",
    "    \n",
    "print(f\"Total Laki Laki adalah {man}\")\n",
    "print(f\"Total Perempuan adalah {woman}\")"
   ]
  },
  {
   "cell_type": "code",
   "execution_count": 75,
   "id": "5066d53c-33d8-4e81-a88f-091563dd293e",
   "metadata": {
    "collapsed": true,
    "jupyter": {
     "outputs_hidden": true,
     "source_hidden": true
    }
   },
   "outputs": [
    {
     "name": "stdout",
     "output_type": "stream",
     "text": [
      "1 : Jan\n",
      "2 : Feb\n",
      "3 : Mar\n",
      "4 : Apr\n",
      "5 : May\n",
      "6 : Jun\n",
      "7 : Jul\n",
      "8 : Aug\n",
      "9 : Sep\n",
      "10 : Oct\n",
      "11 : Nov\n",
      "12 : Dec\n"
     ]
    }
   ],
   "source": [
    "#Enumerate\n",
    "index = 0\n",
    "months = [\"Jan\", \"Feb\", \"Mar\", \"Apr\", \"May\", \"Jun\", \"Jul\", \"Aug\", \"Sep\", \"Oct\", \"Nov\", \"Dec\"]\n",
    "for index, month in enumerate(months):\n",
    "    index += 1\n",
    "    print(f\"{index} : {month}\")"
   ]
  },
  {
   "cell_type": "code",
   "execution_count": 55,
   "id": "d8534857-1357-40ae-b025-13eef8ca2206",
   "metadata": {
    "collapsed": true,
    "jupyter": {
     "outputs_hidden": true,
     "source_hidden": true
    }
   },
   "outputs": [
    {
     "name": "stdout",
     "output_type": "stream",
     "text": [
      "[100, 400, 900, 1600, 2500]\n",
      "['Lulus', 'Lulus', 'Lulus', 'Tidak Lulus', 'Tidak Lulus', 'Tidak Lulus']\n"
     ]
    }
   ],
   "source": [
    "#List Comprehention\n",
    "data = [10, 20, 30, 40, 50]\n",
    "\n",
    "square = [x**2 for x in data]\n",
    "print(square)\n",
    "\n",
    "pythonScores = [90, 100, 85, 60, 65, 50]\n",
    "passExam = [\"Lulus\" if x >= 70 else \"Tidak Lulus\" for x in pythonScores]\n",
    "print(passExam)"
   ]
  },
  {
   "cell_type": "code",
   "execution_count": 39,
   "id": "a2d33719-b8f4-452b-9255-63c41fadbb2f",
   "metadata": {
    "collapsed": true,
    "jupyter": {
     "outputs_hidden": true,
     "source_hidden": true
    }
   },
   "outputs": [
    {
     "name": "stdin",
     "output_type": "stream",
     "text": [
      "Masukan Kalimat rasis banget lu naufal\n"
     ]
    },
    {
     "name": "stdout",
     "output_type": "stream",
     "text": [
      "Jumlah huruf vocal sebanyak 8\n"
     ]
    }
   ],
   "source": [
    "# Menghitung Jumlah huruf local\n",
    "vocal = [\"a\", \"i\", \"u\", \"e\", \"0\"]\n",
    "total = 0\n",
    "sentences = input(\"Masukan Kalimat\")\n",
    "for char in sentences:\n",
    "    if char.lower() in vocal:\n",
    "        total += 1\n",
    "print(f\"Jumlah huruf vocal sebanyak {total}\")"
   ]
  },
  {
   "cell_type": "code",
   "execution_count": 21,
   "id": "a83567dc-7256-4542-af27-58255a5c0d0c",
   "metadata": {
    "collapsed": true,
    "jupyter": {
     "outputs_hidden": true,
     "source_hidden": true
    }
   },
   "outputs": [
    {
     "name": "stdout",
     "output_type": "stream",
     "text": [
      "Yang lulus pemrograman TI24G adalah 3\n",
      "Yang tidak lulus nilai pemrograman TI24G adalah 3\n",
      "Rata-rata nilai pemrograman TI24G adalah 75.0\n"
     ]
    }
   ],
   "source": [
    "#Hitunglah Rata Rata Dari nilai pemrograman TI24G\n",
    "pythonScores = [90, 100, 85, 60, 65, 50]\n",
    "total = 0\n",
    "# 1. Menghitung total dari nilai\n",
    "# 2. Membagi dengan jumlah data\n",
    "# 3. hitunglah jumlah Mahasiswa yang lulus >= 70\n",
    "# 4. Hitunglah jumlah mahasiwa yang tidak lulus\n",
    "lulus = 0\n",
    "\n",
    "for score in pythonScores:\n",
    "    total += score \n",
    "    if score >= 70 :\n",
    "        lulus += 1\n",
    "\n",
    "tidakLulus = len(pythonScores) - lulus\n",
    "print(f\"Yang lulus pemrograman TI24G adalah {lulus}\")\n",
    "print(f\"Yang tidak lulus nilai pemrograman TI24G adalah {tidakLulus}\")\n",
    "avarage = total / len(pythonScores)\n",
    "print(f\"Rata-rata nilai pemrograman TI24G adalah {avarage}\")"
   ]
  },
  {
   "cell_type": "code",
   "execution_count": 3,
   "id": "f4bf051d-6495-4c8f-8439-2639a95634c5",
   "metadata": {
    "collapsed": true,
    "jupyter": {
     "outputs_hidden": true,
     "source_hidden": true
    }
   },
   "outputs": [
    {
     "name": "stdout",
     "output_type": "stream",
     "text": [
      "Fruit name : Apple\n",
      "Fruit name : Banana\n",
      "Fruit name : Watermelon\n",
      "Fruit name : Pineapple\n",
      "Looping Selesai\n"
     ]
    }
   ],
   "source": [
    "#Collection -> list, tuple, set, dictionary\n",
    "# for variabel in collection\n",
    "fruits = [\"Apple\", \"Banana\", \"Watermelon\", \"Pineapple\"]\n",
    "for fruit in fruits:\n",
    "    print(f\"Fruit name : {fruit}\")\n",
    "print (\"Looping Selesai\")"
   ]
  }
 ],
 "metadata": {
  "kernelspec": {
   "display_name": "Python [conda env:base] *",
   "language": "python",
   "name": "conda-base-py"
  },
  "language_info": {
   "codemirror_mode": {
    "name": "ipython",
    "version": 3
   },
   "file_extension": ".py",
   "mimetype": "text/x-python",
   "name": "python",
   "nbconvert_exporter": "python",
   "pygments_lexer": "ipython3",
   "version": "3.12.7"
  }
 },
 "nbformat": 4,
 "nbformat_minor": 5
}
